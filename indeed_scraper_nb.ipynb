{
 "cells": [
  {
   "cell_type": "code",
   "execution_count": 150,
   "metadata": {},
   "outputs": [],
   "source": [
    "import re\n",
    "from dataclasses import dataclass"
   ]
  },
  {
   "attachments": {},
   "cell_type": "markdown",
   "metadata": {},
   "source": [
    "<h4>Definition of Job Object</h4>"
   ]
  },
  {
   "cell_type": "code",
   "execution_count": 151,
   "metadata": {},
   "outputs": [],
   "source": [
    "@dataclass\n",
    "class Job:\n",
    "    job_title: str\n",
    "    company_name: str\n",
    "    company_link: str\n",
    "    description: str"
   ]
  },
  {
   "attachments": {},
   "cell_type": "markdown",
   "metadata": {},
   "source": [
    "<h3>Main Code</h3>"
   ]
  },
  {
   "cell_type": "code",
   "execution_count": 152,
   "metadata": {},
   "outputs": [],
   "source": [
    "from selenium import webdriver\n",
    "from selenium.webdriver.common.by import By\n",
    "from selenium.webdriver.support.wait import WebDriverWait\n",
    "from selenium.webdriver.support import expected_conditions as EC\n",
    "from bs4 import BeautifulSoup\n",
    "\n",
    "def dummy_input():\n",
    "    return 'Software Engineer', 'Denver CO', 1\n",
    "\n",
    "def get_input():\n",
    "    print('Enter Desired Job')\n",
    "    desired_job = input()\n",
    "\n",
    "    print('Enter Location')\n",
    "    location = input()\n",
    "\n",
    "    print('How many pages to search')\n",
    "    pages = int(input())\n",
    "\n",
    "    if pages > 10:\n",
    "        pages = 10\n",
    "\n",
    "    return desired_job, location, pages\n",
    "\n",
    "def main():\n",
    "    # Initialize Selenium options\n",
    "    options = webdriver.FirefoxOptions()\n",
    "    options.add_argument('--ignore-certificate-errors')\n",
    "    options.add_argument('--incognito')\n",
    "    # options.add_argument('--headless')\n",
    "\n",
    "    # Get input from user\n",
    "    desired_job, location, num_pages = dummy_input()\n",
    "\n",
    "    # Start selenium browser\n",
    "    driver = webdriver.Firefox(options)\n",
    "\n",
    "    job_sources = []\n",
    "    page_index = 0\n",
    "    for i in range(num_pages):\n",
    "        # If on second page or further\n",
    "        if i > 0:\n",
    "            # Add pagination query string\n",
    "            page_index = i * 10\n",
    "            driver.get('https://www.indeed.com/jobs?q=' + desired_job + '&l=' + location + '&start=' + str(page_index) + '&sort=date');\n",
    "        # If on the first page\n",
    "        else:\n",
    "            # Just get the first page of data\n",
    "            driver.get('https://www.indeed.com/jobs?q=' + desired_job + '&l=' + location + '&sort=date');\n",
    "        # Find all job card elements\n",
    "        job_links = driver.find_elements(By.CSS_SELECTOR, 'h2.jobTitle')\n",
    "        for link in job_links:\n",
    "            link.click()\n",
    "            WebDriverWait(driver, timeout=10).until(EC.presence_of_element_located((By.CSS_SELECTOR, 'div.jobsearch-RightPane')))\n",
    "            right_pane = driver.find_element(By.CSS_SELECTOR, 'div.jobsearch-RightPane')\n",
    "            if (right_pane):\n",
    "                job_sources.append(right_pane.get_attribute('innerHTML'))\n",
    "\n",
    "    return job_sources\n"
   ]
  },
  {
   "cell_type": "code",
   "execution_count": 153,
   "metadata": {},
   "outputs": [],
   "source": [
    "pages = main()"
   ]
  },
  {
   "cell_type": "code",
   "execution_count": 154,
   "metadata": {},
   "outputs": [],
   "source": [
    "test_page = pages[0]"
   ]
  },
  {
   "attachments": {},
   "cell_type": "markdown",
   "metadata": {},
   "source": [
    "<h3>parse_job_soup</h3>\n",
    "<ul>\n",
    "    <li>takes soup'd job listing</li>\n",
    "    <li>parses it for various information</li>\n",
    "    <li>returns a Job object with data filled in</li>\n",
    "</ul>"
   ]
  },
  {
   "cell_type": "code",
   "execution_count": 155,
   "metadata": {},
   "outputs": [],
   "source": [
    "def parse_job_soup(job_soup):\n",
    "    # Get job title\n",
    "    job_title = job_soup.select_one('h2.jobsearch-JobInfoHeader-title span')\n",
    "    if (job_title):\n",
    "        job_title = job_title.contents[0]\n",
    "        # Get company name\n",
    "        try:\n",
    "            company_name = job_soup.select_one('a').text\n",
    "        except:\n",
    "            company_name = 'Unknown Company'\n",
    "        # Get link to company postings\n",
    "        try:\n",
    "            company_link = job_soup.select_one('a')['href']\n",
    "        except:\n",
    "            company_link = 'None'\n",
    "        # Get description\n",
    "        try:\n",
    "            description = job_soup.select_one('div.jobsearch-jobDescriptionText').text\n",
    "        except:\n",
    "            try:\n",
    "                description = job_soup.select_one('div.jobsearch-JobComponent-description').text\n",
    "            except:\n",
    "                description = 'None'\n",
    "\n",
    "        return Job(job_title, company_name, company_link, description)\n",
    "    # If there's no job title, the job contents probably didn't load\n",
    "    return 'Bad Link'"
   ]
  },
  {
   "attachments": {},
   "cell_type": "markdown",
   "metadata": {},
   "source": [
    "<h4>Testing Code Here</h4>"
   ]
  },
  {
   "cell_type": "code",
   "execution_count": 156,
   "metadata": {},
   "outputs": [
    {
     "name": "stdout",
     "output_type": "stream",
     "text": [
      "Integration Connector Developer\n",
      "LyntonWeb\n",
      "\t \n",
      "\n",
      "LyntonWeb is seeking a highly motivated Connector Developer (C#.NET) with\n",
      "\n",
      "---------------------------------\n",
      "Principal Software Test Engineer\n",
      "Sierra Space\n",
      "\t \n",
      " Do you enjoy developing new products and services? Join us! Our Software \n",
      "\n",
      "---------------------------------\n",
      "Senior Software Developer (up to 25% profit sharing benefit)\n",
      "CACI\n",
      "\t \n",
      " Senior Software Developer (up to 25% profit sharing benefit)\n",
      "  Job Catego\n",
      "\n",
      "---------------------------------\n",
      "Sr. Software Test Engineer\n",
      "Sierra Space\n",
      "\t \n",
      " Do you enjoy developing new products and services? Join us! Our Software \n",
      "\n",
      "---------------------------------\n",
      "Software Engineer Principal\n",
      "Geologics Corporation\n",
      "\t \n",
      "\n",
      "  Software Engineer Principal\n",
      " \n",
      "\n",
      "   Location: Aurora, CO\n",
      " \n",
      "\n",
      "   Clearance \n",
      "\n",
      "---------------------------------\n",
      "Sr. Technical Consultant\n",
      "Computronix\n",
      "\t \n",
      "About Computronix\n",
      "Our low turnover rate, challenging work, great client re\n",
      "\n",
      "---------------------------------\n",
      "Senior Software Engineer\n",
      "Salesforce\n",
      "\t \n",
      "To get the best candidate experience, please consider applying for a maxim\n",
      "\n",
      "---------------------------------\n",
      "Senior Full Stack Engineer\n",
      "Guild\n",
      "\t \n",
      "\n",
      "At Guild, we believe talent is everywhere and that opportunity should be \n",
      "\n",
      "---------------------------------\n",
      "Software Engineer - Control Systems\n",
      "Fastly\n",
      "\t \n",
      "\n",
      "Fastly helps people stay better connected with the things they love. Fast\n",
      "\n",
      "---------------------------------\n"
     ]
    }
   ],
   "source": [
    "for page in pages:\n",
    "    js = BeautifulSoup(page, 'html.parser')\n",
    "    job_info = parse_job_soup(js)\n",
    "    if type(job_info) == Job:\n",
    "        print(job_info.job_title)\n",
    "        print(job_info.company_name)\n",
    "        print('\\t ' + job_info.description[:75])\n",
    "        # print('---------------------------------')\n",
    "        print('')\n",
    "        print('---------------------------------')"
   ]
  },
  {
   "cell_type": "code",
   "execution_count": null,
   "metadata": {},
   "outputs": [],
   "source": []
  }
 ],
 "metadata": {
  "kernelspec": {
   "display_name": "myenv",
   "language": "python",
   "name": "python3"
  },
  "language_info": {
   "codemirror_mode": {
    "name": "ipython",
    "version": 3
   },
   "file_extension": ".py",
   "mimetype": "text/x-python",
   "name": "python",
   "nbconvert_exporter": "python",
   "pygments_lexer": "ipython3",
   "version": "3.11.4"
  },
  "orig_nbformat": 4
 },
 "nbformat": 4,
 "nbformat_minor": 2
}
